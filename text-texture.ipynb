{
 "cells": [
  {
   "cell_type": "code",
   "execution_count": null,
   "id": "b4aa2437-86f7-4f32-a0b5-16b09d9269ca",
   "metadata": {},
   "outputs": [],
   "source": [
    "import json\n",
    "import librosa\n",
    "import pandas as pd\n",
    "import re\n",
    "import torch\n",
    "\n",
    "from IPython.display import display, Audio\n",
    "from transformers import VitsModel, AutoTokenizer\n",
    "\n",
    "from model import RandomCNN, run_transfer\n",
    "from impulse import ImpulsePT, ImpulseSP, average_spectrum_frequencies, modulate_spectrum\n",
    "from utils import audio_to_spectrum, plot_spectrum, read_audio_spectrum, spectrum_to_audio"
   ]
  },
  {
   "cell_type": "markdown",
   "id": "bf419642-a6df-4240-b244-789c236d7f16",
   "metadata": {},
   "source": [
    "### PT"
   ]
  },
  {
   "cell_type": "code",
   "execution_count": null,
   "id": "437f069d-828e-47e9-92bf-9bca81a99342",
   "metadata": {},
   "outputs": [],
   "source": [
    "with open(\"./txts/f_pessoa.json\", \"r\") as json_data:\n",
    "    fpq = json.load(json_data)\n",
    "poemas_pt = [t[\"texto_poesia\"] for t in fpq if len(t[\"texto_poesia\"]) > 0 and len(t[\"texto_poesia\"]) < 65]"
   ]
  },
  {
   "cell_type": "code",
   "execution_count": null,
   "id": "ec3f9d77-25f6-4653-8647-c1bc4b647b6f",
   "metadata": {},
   "outputs": [],
   "source": [
    "len(poemas_pt), max([len(p) for p in poemas_pt])"
   ]
  },
  {
   "cell_type": "code",
   "execution_count": null,
   "id": "63a96eba-28a4-46c1-9c4e-442ca696fd78",
   "metadata": {},
   "outputs": [],
   "source": [
    "with open(\"./txts/pt.json\", 'w', encoding=\"utf-8\") as f:\n",
    "    json.dump(poemas_pt[:512], f, ensure_ascii=False, indent=2)"
   ]
  },
  {
   "cell_type": "markdown",
   "id": "8231d2e6-c967-427c-a225-49870b6775bf",
   "metadata": {},
   "source": [
    "### SP"
   ]
  },
  {
   "cell_type": "code",
   "execution_count": null,
   "id": "42680a73-0e98-4aca-b82e-383976801579",
   "metadata": {},
   "outputs": [],
   "source": [
    "p_df = pd.read_csv(\"./txts/poemas.csv\")\n",
    "poemas_txt_sp = p_df[\"content\"].values"
   ]
  },
  {
   "cell_type": "code",
   "execution_count": null,
   "id": "7242c07f-6dc6-42f2-a134-e2e29570b021",
   "metadata": {},
   "outputs": [],
   "source": [
    "poemas_sp = [re.sub(r\"^\\n\", \"\", p.replace(\"\\n\\n\", \"\\n\")).split(\"\\n\") for p in poemas_txt_sp if isinstance(p, str)]\n",
    "poemas_sp = [p for p in poemas_sp if len(p) < 65]"
   ]
  },
  {
   "cell_type": "code",
   "execution_count": null,
   "id": "1109e262-4d2f-4428-a1c6-56256b577417",
   "metadata": {},
   "outputs": [],
   "source": [
    "len(poemas_sp), max([len(p) for p in poemas_sp])"
   ]
  },
  {
   "cell_type": "code",
   "execution_count": null,
   "id": "d1a46366-f80d-464e-84ed-6a317a7a75a0",
   "metadata": {},
   "outputs": [],
   "source": [
    "with open(\"./txts/sp.json\", 'w', encoding=\"utf-8\") as f:\n",
    "    json.dump(poemas_sp[:512], f, ensure_ascii=False, indent=2)"
   ]
  },
  {
   "cell_type": "markdown",
   "id": "2fe35410-ba44-45a0-a68f-6c12e12bd368",
   "metadata": {},
   "source": [
    "### TTS"
   ]
  },
  {
   "cell_type": "code",
   "execution_count": null,
   "id": "38b037f4-fe4e-40fc-a414-414977fdd38a",
   "metadata": {},
   "outputs": [],
   "source": [
    "model_url_pt = \"facebook/mms-tts-por\"\n",
    "model_url_sp = \"facebook/mms-tts-spa\"\n",
    "\n",
    "model_pt = VitsModel.from_pretrained(model_url_pt)\n",
    "tokenizer_pt = AutoTokenizer.from_pretrained(model_url_pt)\n",
    "\n",
    "model_sp = VitsModel.from_pretrained(model_url_sp)\n",
    "tokenizer_sp = AutoTokenizer.from_pretrained(model_url_sp)"
   ]
  },
  {
   "cell_type": "code",
   "execution_count": null,
   "id": "4f073d84-b3c3-4888-93c9-ed30fb88a123",
   "metadata": {},
   "outputs": [],
   "source": [
    "txt = \" ''' \".join(poemas_pt[0][:5])\n",
    "print(txt)\n",
    "\n",
    "inputs = tokenizer_pt(txt, return_tensors=\"pt\")\n",
    "\n",
    "with torch.no_grad():\n",
    "    output_pt = model_pt(**inputs).waveform\n",
    "\n",
    "output_pt = output_pt.cpu().data.numpy().squeeze()\n",
    "output_pt = librosa.resample(output_pt, orig_sr=model_pt.config.sampling_rate, target_sr=22050)\n",
    "\n",
    "display(Audio(output_pt, rate=22050))"
   ]
  },
  {
   "cell_type": "code",
   "execution_count": null,
   "id": "4595b744-f6a2-451e-a858-c7d78c5f3839",
   "metadata": {},
   "outputs": [],
   "source": [
    "txt = \" \".join(poemas_sp[0][:5])\n",
    "print(txt)\n",
    "\n",
    "inputs = tokenizer_sp(txt, return_tensors=\"pt\")\n",
    "\n",
    "with torch.no_grad():\n",
    "    output_sp = model_sp(**inputs).waveform\n",
    "\n",
    "output_sp = output_sp.cpu().data.numpy().squeeze()\n",
    "output_sp = librosa.resample(output_sp, orig_sr=model_sp.config.sampling_rate, target_sr=22050)\n",
    "\n",
    "display(Audio(output_sp, rate=22050))"
   ]
  },
  {
   "cell_type": "code",
   "execution_count": null,
   "id": "700f0906-7924-4a39-9147-18988e5d88b2",
   "metadata": {},
   "outputs": [],
   "source": [
    "STYLE_PATH = \"wavs/birds/MEX_ALTAMIRA_ORIOLE/MEX_Altamira_Oriole-ACelisM_01.mp3\"\n",
    "STYLE_PATH = \"wavs/birds/BR_ALAGOAS_FOLIAGE/BR_AL_XC181063-PHINOV36_0101_LIMPO.mp3\"\n",
    "\n",
    "(content_s, content_p), content_sr = audio_to_spectrum(output_sp, 22050), 22050\n",
    "style_s, style_p, style_sr = read_audio_spectrum(STYLE_PATH)\n",
    "\n",
    "mod_s = modulate_spectrum(content_s, style_s)"
   ]
  },
  {
   "cell_type": "code",
   "execution_count": null,
   "id": "33eeb468-2b40-485c-8ba1-ca0b9e087fa8",
   "metadata": {},
   "outputs": [],
   "source": [
    "plot_spectrum(mod_s)\n",
    "mod_wav = spectrum_to_audio(mod_s)\n",
    "display(Audio(mod_wav, rate=content_sr))"
   ]
  },
  {
   "cell_type": "markdown",
   "id": "dafe275c-ffd5-4479-9a5c-a06c59483578",
   "metadata": {},
   "source": [
    "### Impulse"
   ]
  },
  {
   "cell_type": "code",
   "execution_count": null,
   "id": "1568dd1d-347b-45f7-bd69-9e17afa3ae03",
   "metadata": {},
   "outputs": [],
   "source": [
    "sp = ImpulseSP()"
   ]
  },
  {
   "cell_type": "code",
   "execution_count": null,
   "id": "4c665392-ad2f-4c23-8114-bb9f3a5a34fa",
   "metadata": {},
   "outputs": [],
   "source": [
    "content_wav, content_sr = sp.get_impulse(1717)\n",
    "content_s, content_p = audio_to_spectrum(content_wav, content_sr)\n",
    "\n",
    "content_wav = spectrum_to_audio(content_s)\n",
    "display(Audio(content_wav, rate=content_sr))"
   ]
  },
  {
   "cell_type": "code",
   "execution_count": null,
   "id": "9e6f2e24-f93b-4e00-b540-7521dd419cd5",
   "metadata": {},
   "outputs": [],
   "source": [
    "STYLE_PATH = \"wavs/birds/BR_ALAGOAS_FOLIAGE/BR_AL_XC181063-PHINOV36_0101_LIMPO.mp3\"\n",
    "#STYLE_PATH = \"wavs/birds/MEX_ALTAMIRA_ORIOLE/MEX_Altamira_Oriole-ACelisM_01.mp3\"\n",
    "\n",
    "style_s, style_p, style_sr = read_audio_spectrum(STYLE_PATH)"
   ]
  },
  {
   "cell_type": "code",
   "execution_count": null,
   "id": "cef2e06a-0a28-463f-886a-8400d240e298",
   "metadata": {},
   "outputs": [],
   "source": [
    "plot_spectrum(content_s)\n",
    "content_wav = spectrum_to_audio(content_s)\n",
    "display(Audio(content_wav, rate=content_sr))\n",
    "\n",
    "plot_spectrum(style_s)\n",
    "style_wav = spectrum_to_audio(style_s)\n",
    "display(Audio(style_wav, rate=style_sr))"
   ]
  },
  {
   "cell_type": "code",
   "execution_count": null,
   "id": "65b0c1e9-bd80-47cd-afd5-25f86487e3ba",
   "metadata": {},
   "outputs": [],
   "source": [
    "%%time\n",
    "kx = 17\n",
    "ky = 17\n",
    "mcnn = RandomCNN(out_channels=400, kernel=(kx, ky), stride=(kx - 2, ky - 2))\n",
    "result = run_transfer(mcnn, content_s, style_s, num_steps=1000, content_weight=1, style_weight=1e14)\n",
    "result_s = result.cpu().data.numpy().squeeze().clip(0, 1000)"
   ]
  },
  {
   "cell_type": "code",
   "execution_count": null,
   "id": "713ced8f-a9de-40c3-bcc9-921bcf55af36",
   "metadata": {},
   "outputs": [],
   "source": [
    "plot_spectrum(result_s)\n",
    "result_wav = spectrum_to_audio(result_s)\n",
    "display(Audio(result_wav, rate=style_sr))"
   ]
  },
  {
   "cell_type": "code",
   "execution_count": null,
   "id": "e07f0592-1623-404a-82fc-96a8efdebcb7",
   "metadata": {},
   "outputs": [],
   "source": [
    "content_s_avg = average_spectrum_frequencies(content_s)*1e-4\n",
    "\n",
    "plot_spectrum(content_s_avg)\n",
    "content_avg_wav = spectrum_to_audio(content_s_avg)\n",
    "display(Audio(content_avg_wav, rate=content_sr))"
   ]
  },
  {
   "cell_type": "code",
   "execution_count": null,
   "id": "efbb256e-0a31-48b9-91a8-963b1d117a4a",
   "metadata": {},
   "outputs": [],
   "source": [
    "%%time\n",
    "kx = 17\n",
    "ky = 17\n",
    "mcnn = RandomCNN(out_channels=400, kernel=(kx, ky), stride=(kx - 2, ky - 2))\n",
    "result = run_transfer(mcnn, content_s_avg, style_s, num_steps=1000, content_weight=1, style_weight=1e11)\n",
    "result_avg_s = result.cpu().data.numpy().squeeze().clip(0, 1000)"
   ]
  },
  {
   "cell_type": "code",
   "execution_count": null,
   "id": "5b825b5f-2b44-4eb0-8005-b66b2c70042c",
   "metadata": {},
   "outputs": [],
   "source": [
    "plot_spectrum(result_avg_s)\n",
    "result_avg_wav = spectrum_to_audio(result_avg_s)\n",
    "display(Audio(result_avg_wav, rate=content_sr))"
   ]
  },
  {
   "cell_type": "code",
   "execution_count": null,
   "id": "d04b4fa3-56e2-4477-897d-94dfbea040db",
   "metadata": {},
   "outputs": [],
   "source": [
    "mod_s = modulate_spectrum(content_s, style_s)\n",
    "\n",
    "plot_spectrum(mod_s)\n",
    "mod_wav = spectrum_to_audio(mod_s)\n",
    "display(Audio(mod_wav, rate=content_sr))"
   ]
  },
  {
   "cell_type": "markdown",
   "id": "25d8cdce-7350-42b7-8bc8-73a73d494d6b",
   "metadata": {},
   "source": [
    "### Experimental"
   ]
  },
  {
   "cell_type": "code",
   "execution_count": null,
   "id": "47d1b04b-dada-4c25-9b4b-9a09b555bb8a",
   "metadata": {},
   "outputs": [],
   "source": [
    "import matplotlib.pyplot as plt\n",
    "import numpy as np"
   ]
  },
  {
   "cell_type": "code",
   "execution_count": null,
   "id": "77aab1b3-924a-4449-99af-71e2fc63e7bb",
   "metadata": {},
   "outputs": [],
   "source": [
    "CONTENT_PATH = \"wavs/birds/MEX_ALTAMIRA_ORIOLE/MEX_Altamira_Oriole-ACelisM_01.mp3\"\n",
    "STYLE_PATH = \"wavs/birds/BR_ALAGOAS_FOLIAGE/BR_AL_XC181063-PHINOV36_0101_LIMPO.mp3\""
   ]
  },
  {
   "cell_type": "code",
   "execution_count": null,
   "id": "30403f0b-1ff3-4d9d-983f-ffe53b44206e",
   "metadata": {},
   "outputs": [],
   "source": [
    "cw, csr = librosa.load(CONTENT_PATH, sr=22050)\n",
    "sw, ssr = librosa.load(STYLE_PATH, sr=22050)"
   ]
  },
  {
   "cell_type": "code",
   "execution_count": null,
   "id": "c868eb42-727a-41d4-ab1c-a89c5e853a26",
   "metadata": {},
   "outputs": [],
   "source": [
    "ww = np.convolve(cw, sw, mode=\"same\")"
   ]
  },
  {
   "cell_type": "code",
   "execution_count": null,
   "id": "285a6ead-649c-47a9-ac4a-1148888f7540",
   "metadata": {},
   "outputs": [],
   "source": [
    "plt.plot(cw)\n",
    "plt.show()\n",
    "display(Audio(cw, rate=csr))\n",
    "\n",
    "plt.plot(sw)\n",
    "plt.show()\n",
    "display(Audio(sw, rate=ssr))\n",
    "\n",
    "plt.plot(ww)\n",
    "plt.show()\n",
    "display(Audio(ww, rate=csr))"
   ]
  },
  {
   "cell_type": "code",
   "execution_count": null,
   "id": "0455c31e-6b6b-455b-836b-0eb25f2697fa",
   "metadata": {},
   "outputs": [],
   "source": [
    "def convconv(wave):\n",
    "    lw = len(wave)\n",
    "    cnv = np.convolve(wave, wave[lw//2 - lw//6:lw//2 + lw//6], mode=\"valid\")\n",
    "    return 2.0 * ((cnv - cnv.min()) / cnv.ptp()) - 1.0"
   ]
  },
  {
   "cell_type": "code",
   "execution_count": null,
   "id": "9bab6241-7aef-4cde-8b30-2f10bf721d53",
   "metadata": {},
   "outputs": [],
   "source": [
    "ww = convconv(sw)\n",
    "\n",
    "plt.plot(ww)\n",
    "plt.show()\n",
    "display(Audio(ww, rate=csr))"
   ]
  },
  {
   "cell_type": "code",
   "execution_count": null,
   "id": "fa24876f-c392-4461-b8a1-c4a1a52e7687",
   "metadata": {},
   "outputs": [],
   "source": []
  }
 ],
 "metadata": {
  "kernelspec": {
   "display_name": "Python 3 (ipykernel)",
   "language": "python",
   "name": "python3"
  },
  "language_info": {
   "codemirror_mode": {
    "name": "ipython",
    "version": 3
   },
   "file_extension": ".py",
   "mimetype": "text/x-python",
   "name": "python",
   "nbconvert_exporter": "python",
   "pygments_lexer": "ipython3",
   "version": "3.10.9"
  }
 },
 "nbformat": 4,
 "nbformat_minor": 5
}

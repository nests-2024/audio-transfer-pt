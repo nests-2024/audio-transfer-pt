{
 "cells": [
  {
   "cell_type": "code",
   "execution_count": null,
   "id": "b4aa2437-86f7-4f32-a0b5-16b09d9269ca",
   "metadata": {},
   "outputs": [],
   "source": [
    "import json\n",
    "import librosa\n",
    "import pandas as pd\n",
    "import re\n",
    "import soundfile as sf\n",
    "import torch\n",
    "\n",
    "from IPython.display import display, Audio\n",
    "from transformers import VitsModel, AutoTokenizer\n",
    "\n",
    "from utils import modulate_spectrum, plot_spectrum, read_audio_spectrum, spectrum_to_audio"
   ]
  },
  {
   "cell_type": "markdown",
   "id": "bf419642-a6df-4240-b244-789c236d7f16",
   "metadata": {},
   "source": [
    "### PT"
   ]
  },
  {
   "cell_type": "code",
   "execution_count": null,
   "id": "437f069d-828e-47e9-92bf-9bca81a99342",
   "metadata": {},
   "outputs": [],
   "source": [
    "with open(\"./txts/f_pessoa.json\", \"r\") as json_data:\n",
    "    fpq = json.load(json_data)\n",
    "poemas_pt = [t[\"texto_poesia\"] for t in fpq if len(t[\"texto_poesia\"]) > 0 and len(t[\"texto_poesia\"]) < 65]"
   ]
  },
  {
   "cell_type": "code",
   "execution_count": null,
   "id": "ec3f9d77-25f6-4653-8647-c1bc4b647b6f",
   "metadata": {},
   "outputs": [],
   "source": [
    "len(poemas_pt), max([len(p) for p in poemas_pt])"
   ]
  },
  {
   "cell_type": "code",
   "execution_count": null,
   "id": "63a96eba-28a4-46c1-9c4e-442ca696fd78",
   "metadata": {},
   "outputs": [],
   "source": [
    "with open(\"./txts/pt.json\", 'w', encoding=\"utf-8\") as f:\n",
    "    json.dump(poemas_pt[:512], f, ensure_ascii=False, indent=2)"
   ]
  },
  {
   "cell_type": "markdown",
   "id": "8231d2e6-c967-427c-a225-49870b6775bf",
   "metadata": {},
   "source": [
    "### SP"
   ]
  },
  {
   "cell_type": "code",
   "execution_count": null,
   "id": "42680a73-0e98-4aca-b82e-383976801579",
   "metadata": {},
   "outputs": [],
   "source": [
    "p_df = pd.read_csv(\"./txts/poemas.csv\")\n",
    "poemas_txt_sp = p_df[\"content\"].values"
   ]
  },
  {
   "cell_type": "code",
   "execution_count": null,
   "id": "7242c07f-6dc6-42f2-a134-e2e29570b021",
   "metadata": {},
   "outputs": [],
   "source": [
    "poemas_sp = [re.sub(r\"^\\n\", \"\", p.replace(\"\\n\\n\", \"\\n\")).split(\"\\n\") for p in poemas_txt_sp if isinstance(p, str)]\n",
    "poemas_sp = [p for p in poemas_sp if len(p) < 65]"
   ]
  },
  {
   "cell_type": "code",
   "execution_count": null,
   "id": "1109e262-4d2f-4428-a1c6-56256b577417",
   "metadata": {},
   "outputs": [],
   "source": [
    "len(poemas_sp), max([len(p) for p in poemas_sp])"
   ]
  },
  {
   "cell_type": "code",
   "execution_count": null,
   "id": "d1a46366-f80d-464e-84ed-6a317a7a75a0",
   "metadata": {},
   "outputs": [],
   "source": [
    "with open(\"./txts/sp.json\", 'w', encoding=\"utf-8\") as f:\n",
    "    json.dump(poemas_sp[:512], f, ensure_ascii=False, indent=2)"
   ]
  },
  {
   "cell_type": "markdown",
   "id": "2fe35410-ba44-45a0-a68f-6c12e12bd368",
   "metadata": {},
   "source": [
    "### TTS"
   ]
  },
  {
   "cell_type": "code",
   "execution_count": null,
   "id": "38b037f4-fe4e-40fc-a414-414977fdd38a",
   "metadata": {},
   "outputs": [],
   "source": [
    "model_url_pt = \"facebook/mms-tts-por\"\n",
    "model_url_sp = \"facebook/mms-tts-spa\"\n",
    "\n",
    "model_pt = VitsModel.from_pretrained(model_url_pt)\n",
    "tokenizer_pt = AutoTokenizer.from_pretrained(model_url_pt)\n",
    "\n",
    "model_sp = VitsModel.from_pretrained(model_url_sp)\n",
    "tokenizer_sp = AutoTokenizer.from_pretrained(model_url_sp)"
   ]
  },
  {
   "cell_type": "code",
   "execution_count": null,
   "id": "4f073d84-b3c3-4888-93c9-ed30fb88a123",
   "metadata": {},
   "outputs": [],
   "source": [
    "txt = \" ''' \".join(poemas_pt[0][:5])\n",
    "print(txt)\n",
    "\n",
    "inputs = tokenizer_pt(txt, return_tensors=\"pt\")\n",
    "\n",
    "with torch.no_grad():\n",
    "    output_pt = model_pt(**inputs).waveform\n",
    "\n",
    "output_pt = output_pt.cpu().data.numpy().squeeze()\n",
    "output_pt = librosa.resample(output_pt, orig_sr=model_pt.config.sampling_rate, target_sr=22050)\n",
    "\n",
    "display(Audio(output_pt, rate=22050))\n",
    "sf.write('./tmp.wav', output_pt, 22050)"
   ]
  },
  {
   "cell_type": "code",
   "execution_count": null,
   "id": "4595b744-f6a2-451e-a858-c7d78c5f3839",
   "metadata": {},
   "outputs": [],
   "source": [
    "txt = \" \".join(poemas_sp[0][:5])\n",
    "print(txt)\n",
    "\n",
    "inputs = tokenizer_sp(txt, return_tensors=\"pt\")\n",
    "\n",
    "with torch.no_grad():\n",
    "    output_sp = model_sp(**inputs).waveform\n",
    "\n",
    "output_sp = output_sp.cpu().data.numpy().squeeze()\n",
    "output_sp = librosa.resample(output_sp, orig_sr=model_sp.config.sampling_rate, target_sr=22050)\n",
    "\n",
    "display(Audio(output_sp, rate=22050))\n",
    "sf.write('./tmp.wav', output_sp, 22050)"
   ]
  },
  {
   "cell_type": "code",
   "execution_count": null,
   "id": "700f0906-7924-4a39-9147-18988e5d88b2",
   "metadata": {},
   "outputs": [],
   "source": [
    "STYLE_PATH = \"wavs/birds/MEX_ALTAMIRA_ORIOLE/MEX_Altamira_Oriole-ACelisM_01.mp3\"\n",
    "STYLE_PATH = \"wavs/birds/BR_ALAGOAS_FOLIAGE/BR_AL_XC181063-PHINOV36_0101_LIMPO.mp3\"\n",
    "\n",
    "mod_s, mod_sr, mod_p = modulate_spectrum(\"./tmp.wav\", STYLE_PATH)"
   ]
  },
  {
   "cell_type": "code",
   "execution_count": null,
   "id": "33eeb468-2b40-485c-8ba1-ca0b9e087fa8",
   "metadata": {},
   "outputs": [],
   "source": [
    "plot_spectrum(mod_s)\n",
    "mod_wav = spectrum_to_audio(mod_s)\n",
    "display(Audio(mod_wav, rate=mod_sr))"
   ]
  },
  {
   "cell_type": "code",
   "execution_count": null,
   "id": "5dcf5bc3-082f-411d-9f00-52c2c920584b",
   "metadata": {},
   "outputs": [],
   "source": []
  }
 ],
 "metadata": {
  "kernelspec": {
   "display_name": "Python 3 (ipykernel)",
   "language": "python",
   "name": "python3"
  },
  "language_info": {
   "codemirror_mode": {
    "name": "ipython",
    "version": 3
   },
   "file_extension": ".py",
   "mimetype": "text/x-python",
   "name": "python",
   "nbconvert_exporter": "python",
   "pygments_lexer": "ipython3",
   "version": "3.10.9"
  }
 },
 "nbformat": 4,
 "nbformat_minor": 5
}

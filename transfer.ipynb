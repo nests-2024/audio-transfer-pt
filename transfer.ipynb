{
 "cells": [
  {
   "cell_type": "markdown",
   "id": "8c3aadde-cd63-450b-a4cc-5984f7e42008",
   "metadata": {},
   "source": [
    "### PyTorch implementation of Random Audio Style Transfer\n",
    "\n",
    "based on:\n",
    "https://pytorch.org/tutorials/advanced/neural_style_tutorial.html"
   ]
  },
  {
   "cell_type": "code",
   "execution_count": null,
   "id": "32f63066-a9b5-46be-9a06-fc59e90aadd3",
   "metadata": {},
   "outputs": [],
   "source": [
    "from IPython.display import display, Audio\n",
    "\n",
    "from model import RandomCNN, run_transfer\n",
    "from utils import plot_spectrum, read_audio_spectrum, spectrum_to_audio"
   ]
  },
  {
   "cell_type": "code",
   "execution_count": null,
   "id": "e4e10874-fa34-430c-a458-371132378773",
   "metadata": {},
   "outputs": [],
   "source": [
    "CONTENT_PATH = \"wavs/songs/imperial.mp3\"\n",
    "STYLE_PATH = \"wavs/songs/usa.mp3\"\n",
    "\n",
    "#CONTENT_PATH = \"wavs/voices/boy.wav\"\n",
    "#STYLE_PATH = \"wavs/voices/girl.wav\"\n",
    "\n",
    "CONTENT_PATH = \"wavs/birds/MEX_ALTAMIRA_ORIOLE/MEX_Altamira_Oriole-ACelisM_01.mp3\"\n",
    "STYLE_PATH = \"wavs/birds/BR_ALAGOAS_FOLIAGE/BR_AL_XC181063-PHINOV36_0101_LIMPO.mp3\"\n",
    "\n",
    "CONTENT_PATH = \"wavs/birds/BR_ALAGOAS_FOLIAGE/BR_AL_XC181063-PHINOV36_0101_LIMPO.mp3\"\n",
    "STYLE_PATH = \"wavs/birds/MEX_ALTAMIRA_ORIOLE/MEX_Altamira_Oriole-ACelisM_01.mp3\"\n",
    "\n",
    "content_s, content_sr, content_p = read_audio_spectrum(CONTENT_PATH)\n",
    "style_s, style_sr, style_p = read_audio_spectrum(STYLE_PATH)"
   ]
  },
  {
   "cell_type": "code",
   "execution_count": null,
   "id": "6ea258e2-2bea-449a-a52e-7e9f24044573",
   "metadata": {},
   "outputs": [],
   "source": [
    "plot_spectrum(content_s)\n",
    "content_wav = spectrum_to_audio(content_s)\n",
    "display(Audio(content_wav, rate=content_sr))\n",
    "\n",
    "plot_spectrum(style_s)\n",
    "style_wav = spectrum_to_audio(style_s)\n",
    "display(Audio(style_wav, rate=style_sr))"
   ]
  },
  {
   "cell_type": "code",
   "execution_count": null,
   "id": "51e65c81-2f11-47a9-a37e-dcee7a245548",
   "metadata": {},
   "outputs": [],
   "source": [
    "%%time\n",
    "mcnn = RandomCNN(out_channels=16, kernel=(11, 3))\n",
    "result = run_transfer(mcnn, content_s, style_s, num_steps=2000, content_weight=1e-1, style_weight=1e2)"
   ]
  },
  {
   "cell_type": "code",
   "execution_count": null,
   "id": "1367c70d-ad31-4cba-b8ae-9e09e195fa0e",
   "metadata": {},
   "outputs": [],
   "source": [
    "result_s = result.cpu().data.numpy().squeeze()\n",
    "plot_spectrum(result_s)\n",
    "\n",
    "result_wav = spectrum_to_audio(result_s, p=content_p, rounds=150)\n",
    "display(Audio(result_wav, rate=style_sr))"
   ]
  },
  {
   "cell_type": "code",
   "execution_count": null,
   "id": "a2724210-e9c4-47d3-afc2-c516a7acbd47",
   "metadata": {},
   "outputs": [],
   "source": []
  }
 ],
 "metadata": {
  "kernelspec": {
   "display_name": "Python 3 (ipykernel)",
   "language": "python",
   "name": "python3"
  },
  "language_info": {
   "codemirror_mode": {
    "name": "ipython",
    "version": 3
   },
   "file_extension": ".py",
   "mimetype": "text/x-python",
   "name": "python",
   "nbconvert_exporter": "python",
   "pygments_lexer": "ipython3",
   "version": "3.10.9"
  }
 },
 "nbformat": 4,
 "nbformat_minor": 5
}

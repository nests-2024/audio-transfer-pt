{
 "cells": [
  {
   "cell_type": "markdown",
   "id": "8c3aadde-cd63-450b-a4cc-5984f7e42008",
   "metadata": {},
   "source": [
    "### PyTorch implementation of Random Audio Style Transfer"
   ]
  },
  {
   "cell_type": "code",
   "execution_count": null,
   "id": "32f63066-a9b5-46be-9a06-fc59e90aadd3",
   "metadata": {},
   "outputs": [],
   "source": [
    "import librosa\n",
    "import torch\n",
    "\n",
    "from IPython.display import display, Audio\n",
    "\n",
    "from utils import plot_spectrum, read_audio_spectrum, spectrum_to_audio, read_audio_spectrum_pt, spectrum_to_audio_pt\n",
    "from model import RandomCNN, run_style_transfer\n",
    "from model import get_input_optimizer, get_style_model_and_losses"
   ]
  },
  {
   "cell_type": "code",
   "execution_count": null,
   "id": "e4e10874-fa34-430c-a458-371132378773",
   "metadata": {},
   "outputs": [],
   "source": [
    "CONTENT_PATH = \"wavs/songs/imperial.mp3\"\n",
    "STYLE_PATH = \"wavs/songs/usa.mp3\"\n",
    "\n",
    "content_s, content_sr, content_p = read_audio_spectrum(CONTENT_PATH)\n",
    "style_s, style_sr, style_p = read_audio_spectrum(STYLE_PATH)"
   ]
  },
  {
   "cell_type": "code",
   "execution_count": null,
   "id": "6ea258e2-2bea-449a-a52e-7e9f24044573",
   "metadata": {},
   "outputs": [],
   "source": [
    "content_wav = spectrum_to_audio(content_s)\n",
    "display(Audio(content_wav, rate=content_sr))\n",
    "\n",
    "style_wav = spectrum_to_audio(style_s)\n",
    "display(Audio(style_wav, rate=style_sr))"
   ]
  },
  {
   "cell_type": "code",
   "execution_count": null,
   "id": "c21cf07b-c8c4-40ef-9906-1635b472c759",
   "metadata": {},
   "outputs": [],
   "source": [
    "plot_spectrum(content_s)\n",
    "plot_spectrum(style_s)\n",
    "\n",
    "mag = read_audio_spectrum_pt(CONTENT_PATH)\n",
    "plot_spectrum(mag)"
   ]
  },
  {
   "cell_type": "code",
   "execution_count": null,
   "id": "04854eb6-4fc0-4ebf-8233-6d4a815b87e3",
   "metadata": {},
   "outputs": [],
   "source": [
    "wav = spectrum_to_audio_pt(torch.from_numpy(content_s))\n",
    "content_pt = read_audio_spectrum_pt(CONTENT_PATH)\n",
    "wav_pt = spectrum_to_audio_pt(content_pt)"
   ]
  },
  {
   "cell_type": "code",
   "execution_count": null,
   "id": "9712dcdb-f8be-4882-b05d-5515b1d7ee5e",
   "metadata": {},
   "outputs": [],
   "source": [
    "display(Audio(wav.cpu(), rate=22050))\n",
    "display(Audio(wav_pt.cpu(), rate=22050))"
   ]
  },
  {
   "cell_type": "code",
   "execution_count": null,
   "id": "80b074c4-9a98-48eb-a5f1-d51a429f7146",
   "metadata": {},
   "outputs": [],
   "source": [
    "mcnn = RandomCNN()\n",
    "\n",
    "content = torch.from_numpy(content_s)[None, None, :, :]\n",
    "style = torch.from_numpy(style_s)[None, None, :, :]\n",
    "result = torch.randn(content.data.size())\n",
    "\n",
    "result_s = (content_s + style_s) / 2\n",
    "result = torch.from_numpy(result_s)[None, None, :, :]"
   ]
  },
  {
   "cell_type": "code",
   "execution_count": null,
   "id": "51e65c81-2f11-47a9-a37e-dcee7a245548",
   "metadata": {},
   "outputs": [],
   "source": [
    "model, style_losses, content_losses = get_style_model_and_losses(mcnn, style, content)\n",
    "\n",
    "result.requires_grad_(True)\n",
    "model.eval()\n",
    "model.requires_grad_(False)\n",
    "\n",
    "optimizer = get_input_optimizer(result)\n",
    "\n",
    "optimizer.zero_grad()\n",
    "model(result)\n",
    "style_score = 0\n",
    "content_score = 0\n",
    "\n",
    "for sl in style_losses:\n",
    "    style_score += sl.loss\n",
    "for cl in content_losses:\n",
    "    content_score += cl.loss\n",
    "\n",
    "style_score *= 1e6\n",
    "content_score *= 1\n",
    "\n",
    "loss = style_score + content_score\n",
    "loss.backward()\n"
   ]
  },
  {
   "cell_type": "code",
   "execution_count": null,
   "id": "1367c70d-ad31-4cba-b8ae-9e09e195fa0e",
   "metadata": {},
   "outputs": [],
   "source": [
    "result_s = result.cpu().data.numpy().squeeze()\n",
    "plot_spectrum(result_s)"
   ]
  },
  {
   "cell_type": "code",
   "execution_count": null,
   "id": "b2c4f553-70b9-4517-9ae0-35f6210373b8",
   "metadata": {},
   "outputs": [],
   "source": [
    "result_wav = spectrum_to_audio(result_s, p=content_p, rounds=50)"
   ]
  },
  {
   "cell_type": "code",
   "execution_count": null,
   "id": "7e0deaae-048a-4d06-b29b-2129c6ebdf3c",
   "metadata": {},
   "outputs": [],
   "source": [
    "result_wav_pt = spectrum_to_audio_pt(result.squeeze())"
   ]
  },
  {
   "cell_type": "code",
   "execution_count": null,
   "id": "bf9a65c1-ccfa-4cd6-8b4d-e1d822797e61",
   "metadata": {},
   "outputs": [],
   "source": [
    "display(Audio(result_wav, rate=style_sr))\n",
    "display(Audio(result_wav_pt.cpu(), rate=style_sr))"
   ]
  },
  {
   "cell_type": "code",
   "execution_count": null,
   "id": "a2724210-e9c4-47d3-afc2-c516a7acbd47",
   "metadata": {},
   "outputs": [],
   "source": []
  }
 ],
 "metadata": {
  "kernelspec": {
   "display_name": "Python 3 (ipykernel)",
   "language": "python",
   "name": "python3"
  },
  "language_info": {
   "codemirror_mode": {
    "name": "ipython",
    "version": 3
   },
   "file_extension": ".py",
   "mimetype": "text/x-python",
   "name": "python",
   "nbconvert_exporter": "python",
   "pygments_lexer": "ipython3",
   "version": "3.10.9"
  }
 },
 "nbformat": 4,
 "nbformat_minor": 5
}
